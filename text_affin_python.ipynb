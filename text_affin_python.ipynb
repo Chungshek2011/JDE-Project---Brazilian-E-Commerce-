{
 "cells": [
  {
   "cell_type": "code",
   "execution_count": 16,
   "metadata": {},
   "outputs": [
    {
     "name": "stdout",
     "output_type": "stream",
     "text": [
      "The sentiment of the text is: negative\n",
      "The AFINN score is: -1.0\n"
     ]
    },
    {
     "data": {
      "text/plain": [
       "'\\n- Positive Review: Love my new dress! Fits perfectly and looks even better in person.\\n- Negative Review: The fabric on this shirt started broken after just a few washes. \\n- Neutral Review: The product was delivered on time .\\n\\n'"
      ]
     },
     "execution_count": 16,
     "metadata": {},
     "output_type": "execute_result"
    }
   ],
   "source": [
    "import pandas as pd\n",
    "from afinn import Afinn\n",
    "\n",
    "# Initialize the Afinn sentiment analyzer\n",
    "af = Afinn()\n",
    "\n",
    "def analyze_sentiment(text):\n",
    "    \"\"\"\n",
    "    Analyze sentiment of a given text using Afinn.\n",
    "    \n",
    "    Parameters:\n",
    "    text (str): A string containing the text to analyze.\n",
    "\n",
    "    Returns:\n",
    "    str: A sentiment label ('positive', 'negative', 'neutral').\n",
    "    \"\"\"\n",
    "    if not isinstance(text, str) or not text.strip():\n",
    "        raise ValueError(\"Input must be a non-empty string.\")\n",
    "\n",
    "    # Calculate AFINN score for the input text\n",
    "    score = af.score(text)\n",
    "    \n",
    "    # Map score to sentiment label\n",
    "    if score > 0:\n",
    "        return 'positive'\n",
    "    elif score < 0:\n",
    "        return 'negative'\n",
    "    else:\n",
    "        return 'neutral'\n",
    "\n",
    "# Example usage\n",
    "sentence  = \"The fabric on this shirt started broken after just a few washes.\"\n",
    "\n",
    "\n",
    "\n",
    "sentiment = analyze_sentiment(sentence)\n",
    "print(f\"The sentiment of the text is: {sentiment}\")\n",
    "print (f\"The AFINN score is: {af.score(sentence)}\")\n",
    "\n",
    "\n",
    "'''\n",
    "- Positive Review: Love my new dress! Fits perfectly and looks even better in person.\n",
    "- Negative Review: The fabric on this shirt started broken after just a few washes. \n",
    "- Neutral Review: The product was delivered on time .\n",
    "\n",
    "'''\n"
   ]
  }
 ],
 "metadata": {
  "kernelspec": {
   "display_name": "myEnv",
   "language": "python",
   "name": "python3"
  },
  "language_info": {
   "codemirror_mode": {
    "name": "ipython",
    "version": 3
   },
   "file_extension": ".py",
   "mimetype": "text/x-python",
   "name": "python",
   "nbconvert_exporter": "python",
   "pygments_lexer": "ipython3",
   "version": "3.11.9"
  }
 },
 "nbformat": 4,
 "nbformat_minor": 2
}
